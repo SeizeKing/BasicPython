{
 "cells": [
  {
   "cell_type": "code",
   "execution_count": 1,
   "metadata": {},
   "outputs": [
    {
     "name": "stdout",
     "output_type": "stream",
     "text": [
      "Hello World\n"
     ]
    }
   ],
   "source": [
    "print(\"Hello World\")"
   ]
  },
  {
   "cell_type": "code",
   "execution_count": 2,
   "metadata": {},
   "outputs": [],
   "source": [
    "# Komentar di Python"
   ]
  },
  {
   "cell_type": "code",
   "execution_count": 13,
   "metadata": {},
   "outputs": [
    {
     "name": "stdout",
     "output_type": "stream",
     "text": [
      "Selamat pagi, Selamat pagi, selamat siang\n"
     ]
    }
   ],
   "source": [
    "sapa = \"Selamat pagi\"\n",
    "sapa1 = \"Selamat pagi\"\n",
    "sapa_dua = \"selamat siang\"\n",
    "\n",
    "print(sapa, sapa1, sapa_dua, sep = \", \")"
   ]
  },
  {
   "cell_type": "code",
   "execution_count": 15,
   "metadata": {},
   "outputs": [],
   "source": [
    "# Penulisan variabel tidak bisa diawali dengan angka dan simbol"
   ]
  },
  {
   "cell_type": "code",
   "execution_count": 16,
   "metadata": {},
   "outputs": [
    {
     "name": "stdout",
     "output_type": "stream",
     "text": [
      "Ayuk belajar AI\n",
      "<class 'str'>\n"
     ]
    }
   ],
   "source": [
    "var_string = \"Ayuk belajar AI\"\n",
    "print(var_string)\n",
    "print(type(var_string))"
   ]
  },
  {
   "cell_type": "code",
   "execution_count": 18,
   "metadata": {},
   "outputs": [
    {
     "name": "stdout",
     "output_type": "stream",
     "text": [
      "20\n",
      "<class 'int'>\n"
     ]
    }
   ],
   "source": [
    "var_integer = 20\n",
    "print(var_integer)\n",
    "print(type(var_integer))"
   ]
  },
  {
   "cell_type": "code",
   "execution_count": 19,
   "metadata": {},
   "outputs": [
    {
     "name": "stdout",
     "output_type": "stream",
     "text": [
      "99.1\n",
      "<class 'float'>\n"
     ]
    }
   ],
   "source": [
    "var_float = 99.1\n",
    "print(var_float)\n",
    "print(type(var_float))"
   ]
  },
  {
   "cell_type": "code",
   "execution_count": 22,
   "metadata": {},
   "outputs": [
    {
     "name": "stdout",
     "output_type": "stream",
     "text": [
      "Ayuk belajar AI, 20, 99.1\n"
     ]
    }
   ],
   "source": [
    "print(var_string, var_integer, var_float, sep=\", \")"
   ]
  },
  {
   "cell_type": "code",
   "execution_count": 24,
   "metadata": {},
   "outputs": [
    {
     "name": "stdout",
     "output_type": "stream",
     "text": [
      "Nilainya True\n",
      "<class 'bool'>\n"
     ]
    }
   ],
   "source": [
    "var_boolean = True\n",
    "if var_boolean:\n",
    "    print(\"Nilainya True\")\n",
    "print(type(var_boolean))"
   ]
  },
  {
   "cell_type": "code",
   "execution_count": 25,
   "metadata": {},
   "outputs": [
    {
     "name": "stdout",
     "output_type": "stream",
     "text": [
      "3\n"
     ]
    }
   ],
   "source": [
    "# Math Operation\n",
    "tambah = 1 + 2\n",
    "print(tambah)"
   ]
  },
  {
   "cell_type": "code",
   "execution_count": 28,
   "metadata": {},
   "outputs": [
    {
     "name": "stdout",
     "output_type": "stream",
     "text": [
      "Hai Saya\n"
     ]
    }
   ],
   "source": [
    "var1 = \"Hai\"\n",
    "var2 = \"Saya\"\n",
    "#var3 = var1 + var2\n",
    "print(var1 + \" \" + var2)"
   ]
  },
  {
   "cell_type": "code",
   "execution_count": 29,
   "metadata": {},
   "outputs": [
    {
     "name": "stdout",
     "output_type": "stream",
     "text": [
      "49\n"
     ]
    }
   ],
   "source": [
    "kurang1 = 99\n",
    "kurang2 = 50\n",
    "kurang3 = kurang1 - kurang2\n",
    "print(kurang3)"
   ]
  },
  {
   "cell_type": "code",
   "execution_count": 30,
   "metadata": {},
   "outputs": [
    {
     "name": "stdout",
     "output_type": "stream",
     "text": [
      "30\n"
     ]
    }
   ],
   "source": [
    "kali1 = 5\n",
    "kali2 = 6\n",
    "kali3 = kali1 * kali2\n",
    "print(kali3)"
   ]
  },
  {
   "cell_type": "code",
   "execution_count": 33,
   "metadata": {},
   "outputs": [
    {
     "name": "stdout",
     "output_type": "stream",
     "text": [
      "6\n"
     ]
    }
   ],
   "source": [
    "bagi1 = 30\n",
    "bagi2 = 5\n",
    "bagi3 = bagi1 / bagi2\n",
    "print(int(bagi3))"
   ]
  },
  {
   "cell_type": "code",
   "execution_count": 35,
   "metadata": {},
   "outputs": [
    {
     "name": "stdout",
     "output_type": "stream",
     "text": [
      "1\n"
     ]
    }
   ],
   "source": [
    "modul1 = 10\n",
    "modul2 = 3\n",
    "modul3 = modul1 % modul2\n",
    "print(modul3)"
   ]
  },
  {
   "cell_type": "code",
   "execution_count": 36,
   "metadata": {},
   "outputs": [
    {
     "name": "stdout",
     "output_type": "stream",
     "text": [
      "Benar\n"
     ]
    }
   ],
   "source": [
    "if (modul1 %2 == 0):\n",
    "    print(\"Benar\")"
   ]
  },
  {
   "cell_type": "code",
   "execution_count": 37,
   "metadata": {},
   "outputs": [
    {
     "name": "stdout",
     "output_type": "stream",
     "text": [
      "3318462988691948907650286963263936624986304603548631220018837549610370323146990243798546901044939902470099862517164959369\n"
     ]
    }
   ],
   "source": [
    "expo1 = 67\n",
    "expo2 = 66\n",
    "expo3 = expo1 ** expo2\n",
    "print(expo3)"
   ]
  },
  {
   "cell_type": "code",
   "execution_count": 40,
   "metadata": {},
   "outputs": [
    {
     "name": "stdout",
     "output_type": "stream",
     "text": [
      "17\n"
     ]
    }
   ],
   "source": [
    "int_div = 53 // 3\n",
    "print(int_div)"
   ]
  },
  {
   "cell_type": "code",
   "execution_count": 41,
   "metadata": {},
   "outputs": [
    {
     "name": "stdout",
     "output_type": "stream",
     "text": [
      "6\n"
     ]
    }
   ],
   "source": [
    "#operator penugasan\n",
    "satu = \"halo\"\n",
    "angka = 3\n",
    "angka += 3\n",
    "print(angka)"
   ]
  },
  {
   "cell_type": "code",
   "execution_count": 42,
   "metadata": {},
   "outputs": [
    {
     "name": "stdout",
     "output_type": "stream",
     "text": [
      "7\n"
     ]
    }
   ],
   "source": [
    "angka = 4\n",
    "angka = 5\n",
    "angka = 7\n",
    "print(angka)"
   ]
  },
  {
   "cell_type": "code",
   "execution_count": 50,
   "metadata": {},
   "outputs": [
    {
     "name": "stdout",
     "output_type": "stream",
     "text": [
      "(1+3j)\n",
      "<class 'complex'>\n"
     ]
    }
   ],
   "source": [
    "comp = 1+3j\n",
    "print(comp)\n",
    "print(type(comp))"
   ]
  },
  {
   "cell_type": "code",
   "execution_count": 49,
   "metadata": {},
   "outputs": [
    {
     "name": "stdout",
     "output_type": "stream",
     "text": [
      "Learning Machine\n",
      "Learning Machine\n",
      "1\n",
      "2\n",
      "3\n",
      "4\n",
      "5\n",
      "6\n",
      "7\n",
      "8\n",
      "9\n",
      "10\n",
      "11\n",
      "12\n",
      "13\n",
      "14\n",
      "15\n",
      "16\n",
      "17\n",
      "18\n",
      "19\n"
     ]
    }
   ],
   "source": [
    "local = \"Machine Learning\"\n",
    "def Scope():\n",
    "    global local\n",
    "    local = \"Learning Machine\"\n",
    "    print(local)\n",
    "Scope()\n",
    "print(local)\n",
    "\n",
    "for i in range(1,20):\n",
    "    print(i)\n",
    "    "
   ]
  },
  {
   "cell_type": "code",
   "execution_count": 45,
   "metadata": {},
   "outputs": [
    {
     "name": "stdout",
     "output_type": "stream",
     "text": [
      "Machine Learning\n"
     ]
    }
   ],
   "source": [
    "local = \"Machine Learning\"\n",
    "def Scope():\n",
    "    global local\n",
    "    print(local)\n",
    "Scope()"
   ]
  },
  {
   "cell_type": "code",
   "execution_count": 51,
   "metadata": {},
   "outputs": [
    {
     "name": "stdout",
     "output_type": "stream",
     "text": [
      "Nilainya False\n"
     ]
    }
   ],
   "source": [
    "fal_se = 0\n",
    "if fal_se:\n",
    "    print(\"Nilainya True\")\n",
    "else:\n",
    "    print(\"Nilainya False\")"
   ]
  },
  {
   "cell_type": "code",
   "execution_count": 53,
   "metadata": {},
   "outputs": [
    {
     "name": "stdout",
     "output_type": "stream",
     "text": [
      "5 lebih kecil dari 6\n"
     ]
    }
   ],
   "source": [
    "# Operator Perbandingan\n",
    "if 5 < 6:\n",
    "    print(\"5 lebih kecil dari 6\")"
   ]
  },
  {
   "cell_type": "code",
   "execution_count": 54,
   "metadata": {},
   "outputs": [
    {
     "name": "stdout",
     "output_type": "stream",
     "text": [
      "Beda\n"
     ]
    }
   ],
   "source": [
    "num = 5\n",
    "num2 = 7\n",
    "if num == num2:\n",
    "    print(\"Sama\")\n",
    "else:\n",
    "    print(\"Beda\")"
   ]
  },
  {
   "cell_type": "code",
   "execution_count": null,
   "metadata": {},
   "outputs": [],
   "source": [
    "if 7 != 8:\n",
    "    print(\"Tidak Sama\")"
   ]
  },
  {
   "cell_type": "code",
   "execution_count": null,
   "metadata": {},
   "outputs": [],
   "source": [
    "# Operasi String"
   ]
  },
  {
   "cell_type": "code",
   "execution_count": 57,
   "metadata": {},
   "outputs": [
    {
     "name": "stdout",
     "output_type": "stream",
     "text": [
      "Hallo\n",
      "hai\n"
     ]
    }
   ],
   "source": [
    "greeting = \" Hallo \"\n",
    "print(greeting.strip())\n",
    "greeting1 = \"HAI\"\n",
    "print(greeting1.lower())"
   ]
  },
  {
   "cell_type": "code",
   "execution_count": 59,
   "metadata": {},
   "outputs": [
    {
     "name": "stdout",
     "output_type": "stream",
     "text": [
      "Ayo belajar Python\n",
      "Ayo belajar Cobra\n"
     ]
    }
   ],
   "source": [
    "tagline = \"Ayo belajar Python\"\n",
    "print(tagline)\n",
    "print(tagline.replace(\"Python\", \"Cobra\"))"
   ]
  },
  {
   "cell_type": "code",
   "execution_count": null,
   "metadata": {},
   "outputs": [],
   "source": []
  }
 ],
 "metadata": {
  "kernelspec": {
   "display_name": "Python 3",
   "language": "python",
   "name": "python3"
  },
  "language_info": {
   "codemirror_mode": {
    "name": "ipython",
    "version": 3
   },
   "file_extension": ".py",
   "mimetype": "text/x-python",
   "name": "python",
   "nbconvert_exporter": "python",
   "pygments_lexer": "ipython3",
   "version": "3.9.1"
  }
 },
 "nbformat": 4,
 "nbformat_minor": 4
}